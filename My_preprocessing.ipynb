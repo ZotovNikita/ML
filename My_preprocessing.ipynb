{
  "nbformat": 4,
  "nbformat_minor": 0,
  "metadata": {
    "colab": {
      "provenance": []
    },
    "kernelspec": {
      "name": "python3",
      "display_name": "Python 3"
    },
    "language_info": {
      "name": "python"
    }
  },
  "cells": [
    {
      "cell_type": "code",
      "execution_count": 1,
      "metadata": {
        "id": "y6I_3GFwQ6Rl",
        "colab": {
          "base_uri": "https://localhost:8080/",
          "height": 206
        },
        "outputId": "7affc098-8ed9-409a-ba3b-e8e4c6d22417"
      },
      "outputs": [
        {
          "output_type": "execute_result",
          "data": {
            "text/plain": [
              "        age       sex       bmi        bp        s1        s2        s3  \\\n",
              "0  0.038076  0.050680  0.061696  0.021872 -0.044223 -0.034821 -0.043401   \n",
              "1 -0.001882 -0.044642 -0.051474 -0.026328 -0.008449 -0.019163  0.074412   \n",
              "2  0.085299  0.050680  0.044451 -0.005670 -0.045599 -0.034194 -0.032356   \n",
              "3 -0.089063 -0.044642 -0.011595 -0.036656  0.012191  0.024991 -0.036038   \n",
              "4  0.005383 -0.044642 -0.036385  0.021872  0.003935  0.015596  0.008142   \n",
              "\n",
              "         s4        s5        s6  \n",
              "0 -0.002592  0.019907 -0.017646  \n",
              "1 -0.039493 -0.068332 -0.092204  \n",
              "2 -0.002592  0.002861 -0.025930  \n",
              "3  0.034309  0.022688 -0.009362  \n",
              "4 -0.002592 -0.031988 -0.046641  "
            ],
            "text/html": [
              "\n",
              "  <div id=\"df-c2683ee7-3cf8-4c0c-b752-429ebdb96475\">\n",
              "    <div class=\"colab-df-container\">\n",
              "      <div>\n",
              "<style scoped>\n",
              "    .dataframe tbody tr th:only-of-type {\n",
              "        vertical-align: middle;\n",
              "    }\n",
              "\n",
              "    .dataframe tbody tr th {\n",
              "        vertical-align: top;\n",
              "    }\n",
              "\n",
              "    .dataframe thead th {\n",
              "        text-align: right;\n",
              "    }\n",
              "</style>\n",
              "<table border=\"1\" class=\"dataframe\">\n",
              "  <thead>\n",
              "    <tr style=\"text-align: right;\">\n",
              "      <th></th>\n",
              "      <th>age</th>\n",
              "      <th>sex</th>\n",
              "      <th>bmi</th>\n",
              "      <th>bp</th>\n",
              "      <th>s1</th>\n",
              "      <th>s2</th>\n",
              "      <th>s3</th>\n",
              "      <th>s4</th>\n",
              "      <th>s5</th>\n",
              "      <th>s6</th>\n",
              "    </tr>\n",
              "  </thead>\n",
              "  <tbody>\n",
              "    <tr>\n",
              "      <th>0</th>\n",
              "      <td>0.038076</td>\n",
              "      <td>0.050680</td>\n",
              "      <td>0.061696</td>\n",
              "      <td>0.021872</td>\n",
              "      <td>-0.044223</td>\n",
              "      <td>-0.034821</td>\n",
              "      <td>-0.043401</td>\n",
              "      <td>-0.002592</td>\n",
              "      <td>0.019907</td>\n",
              "      <td>-0.017646</td>\n",
              "    </tr>\n",
              "    <tr>\n",
              "      <th>1</th>\n",
              "      <td>-0.001882</td>\n",
              "      <td>-0.044642</td>\n",
              "      <td>-0.051474</td>\n",
              "      <td>-0.026328</td>\n",
              "      <td>-0.008449</td>\n",
              "      <td>-0.019163</td>\n",
              "      <td>0.074412</td>\n",
              "      <td>-0.039493</td>\n",
              "      <td>-0.068332</td>\n",
              "      <td>-0.092204</td>\n",
              "    </tr>\n",
              "    <tr>\n",
              "      <th>2</th>\n",
              "      <td>0.085299</td>\n",
              "      <td>0.050680</td>\n",
              "      <td>0.044451</td>\n",
              "      <td>-0.005670</td>\n",
              "      <td>-0.045599</td>\n",
              "      <td>-0.034194</td>\n",
              "      <td>-0.032356</td>\n",
              "      <td>-0.002592</td>\n",
              "      <td>0.002861</td>\n",
              "      <td>-0.025930</td>\n",
              "    </tr>\n",
              "    <tr>\n",
              "      <th>3</th>\n",
              "      <td>-0.089063</td>\n",
              "      <td>-0.044642</td>\n",
              "      <td>-0.011595</td>\n",
              "      <td>-0.036656</td>\n",
              "      <td>0.012191</td>\n",
              "      <td>0.024991</td>\n",
              "      <td>-0.036038</td>\n",
              "      <td>0.034309</td>\n",
              "      <td>0.022688</td>\n",
              "      <td>-0.009362</td>\n",
              "    </tr>\n",
              "    <tr>\n",
              "      <th>4</th>\n",
              "      <td>0.005383</td>\n",
              "      <td>-0.044642</td>\n",
              "      <td>-0.036385</td>\n",
              "      <td>0.021872</td>\n",
              "      <td>0.003935</td>\n",
              "      <td>0.015596</td>\n",
              "      <td>0.008142</td>\n",
              "      <td>-0.002592</td>\n",
              "      <td>-0.031988</td>\n",
              "      <td>-0.046641</td>\n",
              "    </tr>\n",
              "  </tbody>\n",
              "</table>\n",
              "</div>\n",
              "      <button class=\"colab-df-convert\" onclick=\"convertToInteractive('df-c2683ee7-3cf8-4c0c-b752-429ebdb96475')\"\n",
              "              title=\"Convert this dataframe to an interactive table.\"\n",
              "              style=\"display:none;\">\n",
              "        \n",
              "  <svg xmlns=\"http://www.w3.org/2000/svg\" height=\"24px\"viewBox=\"0 0 24 24\"\n",
              "       width=\"24px\">\n",
              "    <path d=\"M0 0h24v24H0V0z\" fill=\"none\"/>\n",
              "    <path d=\"M18.56 5.44l.94 2.06.94-2.06 2.06-.94-2.06-.94-.94-2.06-.94 2.06-2.06.94zm-11 1L8.5 8.5l.94-2.06 2.06-.94-2.06-.94L8.5 2.5l-.94 2.06-2.06.94zm10 10l.94 2.06.94-2.06 2.06-.94-2.06-.94-.94-2.06-.94 2.06-2.06.94z\"/><path d=\"M17.41 7.96l-1.37-1.37c-.4-.4-.92-.59-1.43-.59-.52 0-1.04.2-1.43.59L10.3 9.45l-7.72 7.72c-.78.78-.78 2.05 0 2.83L4 21.41c.39.39.9.59 1.41.59.51 0 1.02-.2 1.41-.59l7.78-7.78 2.81-2.81c.8-.78.8-2.07 0-2.86zM5.41 20L4 18.59l7.72-7.72 1.47 1.35L5.41 20z\"/>\n",
              "  </svg>\n",
              "      </button>\n",
              "      \n",
              "  <style>\n",
              "    .colab-df-container {\n",
              "      display:flex;\n",
              "      flex-wrap:wrap;\n",
              "      gap: 12px;\n",
              "    }\n",
              "\n",
              "    .colab-df-convert {\n",
              "      background-color: #E8F0FE;\n",
              "      border: none;\n",
              "      border-radius: 50%;\n",
              "      cursor: pointer;\n",
              "      display: none;\n",
              "      fill: #1967D2;\n",
              "      height: 32px;\n",
              "      padding: 0 0 0 0;\n",
              "      width: 32px;\n",
              "    }\n",
              "\n",
              "    .colab-df-convert:hover {\n",
              "      background-color: #E2EBFA;\n",
              "      box-shadow: 0px 1px 2px rgba(60, 64, 67, 0.3), 0px 1px 3px 1px rgba(60, 64, 67, 0.15);\n",
              "      fill: #174EA6;\n",
              "    }\n",
              "\n",
              "    [theme=dark] .colab-df-convert {\n",
              "      background-color: #3B4455;\n",
              "      fill: #D2E3FC;\n",
              "    }\n",
              "\n",
              "    [theme=dark] .colab-df-convert:hover {\n",
              "      background-color: #434B5C;\n",
              "      box-shadow: 0px 1px 3px 1px rgba(0, 0, 0, 0.15);\n",
              "      filter: drop-shadow(0px 1px 2px rgba(0, 0, 0, 0.3));\n",
              "      fill: #FFFFFF;\n",
              "    }\n",
              "  </style>\n",
              "\n",
              "      <script>\n",
              "        const buttonEl =\n",
              "          document.querySelector('#df-c2683ee7-3cf8-4c0c-b752-429ebdb96475 button.colab-df-convert');\n",
              "        buttonEl.style.display =\n",
              "          google.colab.kernel.accessAllowed ? 'block' : 'none';\n",
              "\n",
              "        async function convertToInteractive(key) {\n",
              "          const element = document.querySelector('#df-c2683ee7-3cf8-4c0c-b752-429ebdb96475');\n",
              "          const dataTable =\n",
              "            await google.colab.kernel.invokeFunction('convertToInteractive',\n",
              "                                                     [key], {});\n",
              "          if (!dataTable) return;\n",
              "\n",
              "          const docLinkHtml = 'Like what you see? Visit the ' +\n",
              "            '<a target=\"_blank\" href=https://colab.research.google.com/notebooks/data_table.ipynb>data table notebook</a>'\n",
              "            + ' to learn more about interactive tables.';\n",
              "          element.innerHTML = '';\n",
              "          dataTable['output_type'] = 'display_data';\n",
              "          await google.colab.output.renderOutput(dataTable, element);\n",
              "          const docLink = document.createElement('div');\n",
              "          docLink.innerHTML = docLinkHtml;\n",
              "          element.appendChild(docLink);\n",
              "        }\n",
              "      </script>\n",
              "    </div>\n",
              "  </div>\n",
              "  "
            ]
          },
          "metadata": {},
          "execution_count": 1
        }
      ],
      "source": [
        "import sklearn\n",
        "from sklearn.datasets import load_diabetes\n",
        "import pandas as pd\n",
        "import matplotlib.pyplot as plt\n",
        "\n",
        "# Load the dataset\n",
        "diabetics = load_diabetes()\n",
        "\n",
        "# Create the dataframe\n",
        "column_name = diabetics.feature_names\n",
        "df_diabetics = pd.DataFrame(diabetics.data)\n",
        "df_diabetics.columns = column_name\n",
        "df_diabetics.drop_duplicates()\n",
        "df_diabetics.head()"
      ]
    },
    {
      "cell_type": "markdown",
      "source": [
        "Визуализация выбросов с помощью прямоугольного графика\n",
        "Он эффективно фиксирует сводку данных с помощью всего лишь простого блока и усов. Boxplot суммирует выборочные данные с использованием 25-го, 50-го и 75-го процентилей. Можно просто получить представление (квартили, медиану и выбросы) о наборе данных, просто взглянув на его диаграмму."
      ],
      "metadata": {
        "id": "Qh07WzlleY75"
      }
    },
    {
      "cell_type": "code",
      "source": [
        "import seaborn as sns\n",
        "sns.boxplot(df_diabetics['bmi'])"
      ],
      "metadata": {
        "colab": {
          "base_uri": "https://localhost:8080/",
          "height": 447
        },
        "id": "3iiFdbwAeaLE",
        "outputId": "8526dd52-6bc1-4810-acf0-cb7eb6e6acc7"
      },
      "execution_count": 2,
      "outputs": [
        {
          "output_type": "execute_result",
          "data": {
            "text/plain": [
              "<Axes: >"
            ]
          },
          "metadata": {},
          "execution_count": 2
        },
        {
          "output_type": "display_data",
          "data": {
            "text/plain": [
              "<Figure size 640x480 with 1 Axes>"
            ],
            "image/png": "[encoded data removed]"
          },
          "metadata": {}
        }
      ]
    },
    {
      "cell_type": "markdown",
      "source": [
        "На приведенном выше графике хорошо видно, что значения выше 10 действуют как выбросы."
      ],
      "metadata": {
        "id": "x5Cpbelsev-1"
      }
    },
    {
      "cell_type": "code",
      "source": [
        "import numpy as np\n",
        "print(np.where(df_diabetics['bmi']>0.12))"
      ],
      "metadata": {
        "colab": {
          "base_uri": "https://localhost:8080/"
        },
        "id": "Ra1n8gp8ewsZ",
        "outputId": "1bd745f4-ee20-4470-d95a-542e1123c247"
      },
      "execution_count": 3,
      "outputs": [
        {
          "output_type": "stream",
          "name": "stdout",
          "text": [
            "(array([ 32, 145, 256, 262, 366, 367, 405]),)\n"
          ]
        }
      ]
    },
    {
      "cell_type": "markdown",
      "source": [
        "Визуализация выбросов с помощью диаграммы рассеяния.\n",
        "\n",
        "Он используется, когда у вас есть сопряженные числовые данные и когда ваша зависимая переменная имеет несколько значений для каждой независимой переменной чтения, или при попытке определить взаимосвязь между двумя переменными. В процессе использования точечной диаграммы ее также можно использовать для обнаружения выбросов.\n",
        "\n",
        "Для построения точечной диаграммы требуются две переменные, которые каким-то образом связаны друг с другом. Итак, здесь используются \"Доля акров, не связанных с розничной торговлей, на город\" и \"Ставка налога на недвижимость в размере полной стоимости за 10 000 долларов США\", названия столбцов которых - “ПРОМЫШЛЕННОСТЬ” и “НАЛОГ” соответственно."
      ],
      "metadata": {
        "id": "j3sJomv1e31n"
      }
    },
    {
      "cell_type": "code",
      "source": [
        "# Scatter plot\n",
        "fig, ax = plt.subplots(figsize = (6,4))\n",
        "ax.scatter(df_diabetics['bmi'],df_diabetics['bp'])\n",
        "\n",
        "# x-axis label\n",
        "ax.set_xlabel('(body mass index of people)')\n",
        "\n",
        "# y-axis label\n",
        "ax.set_ylabel('(bp of the people )')\n",
        "plt.show()"
      ],
      "metadata": {
        "colab": {
          "base_uri": "https://localhost:8080/",
          "height": 388
        },
        "id": "umT8LBw5e2kr",
        "outputId": "f64e2f09-0d00-4c32-8b54-72f624f0b8ca"
      },
      "execution_count": 4,
      "outputs": [
        {
          "output_type": "display_data",
          "data": {
            "text/plain": [
              "<Figure size 600x400 with 1 Axes>"
            ],
            "image/png": "[encoded data removed]"
          },
          "metadata": {}
        }
      ]
    },
    {
      "cell_type": "markdown",
      "source": [
        "Глядя на график, можно сделать вывод, что большинство точек данных находятся в нижнем левом углу графика, но есть несколько точек, которые находятся точно напротив, что является верхним правым углом графика. Эти точки в правом верхнем углу можно рассматривать как выбросы.\n",
        "\n",
        "Используя аппроксимацию, можно сказать, что все те точки данных, которые имеют значения x> 20 и y> 600, являются выбросами. Следующий код может получить точное положение всех тех точек, которые удовлетворяют этим условиям."
      ],
      "metadata": {
        "id": "8A5lIwEEfMgx"
      }
    },
    {
      "cell_type": "markdown",
      "source": [
        "Выбросы в столбцах BMI и BP объединены"
      ],
      "metadata": {
        "id": "lTCs9du4fNyv"
      }
    },
    {
      "cell_type": "code",
      "source": [
        "print(np.where((df_diabetics['bmi']>0.12) & (df_diabetics['bp']<0.8)))"
      ],
      "metadata": {
        "colab": {
          "base_uri": "https://localhost:8080/"
        },
        "id": "OvVc5H8jfM-A",
        "outputId": "276ccba3-52fb-48be-ae58-008fbe589d9c"
      },
      "execution_count": 5,
      "outputs": [
        {
          "output_type": "stream",
          "name": "stdout",
          "text": [
            "(array([ 32, 145, 256, 262, 366, 367, 405]),)\n"
          ]
        }
      ]
    },
    {
      "cell_type": "markdown",
      "source": [
        "Z-оценка"
      ],
      "metadata": {
        "id": "jvuY3i3WfZxi"
      }
    },
    {
      "cell_type": "markdown",
      "source": [
        "Z-оценка также называется стандартной оценкой. Это значение / оценка помогает понять, насколько далека точка данных от среднего значения. И после настройки порогового значения можно использовать значения z баллов точек данных для определения выбросов."
      ],
      "metadata": {
        "id": "d9LzUO7WfeH4"
      }
    },
    {
      "cell_type": "code",
      "source": [
        "from scipy import stats\n",
        "import numpy as np\n",
        "\n",
        "z = np.abs(stats.zscore(df_diabetics['age']))\n",
        "print(z)"
      ],
      "metadata": {
        "colab": {
          "base_uri": "https://localhost:8080/"
        },
        "id": "K0MRB4--faKO",
        "outputId": "b930308e-15c3-4c72-abff-bc596906fe99"
      },
      "execution_count": 6,
      "outputs": [
        {
          "output_type": "stream",
          "name": "stdout",
          "text": [
            "0      0.800500\n",
            "1      0.039567\n",
            "2      1.793307\n",
            "3      1.872441\n",
            "4      0.113172\n",
            "         ...   \n",
            "437    0.876870\n",
            "438    0.115937\n",
            "439    0.876870\n",
            "440    0.956004\n",
            "441    0.956004\n",
            "Name: age, Length: 442, dtype: float64\n"
          ]
        }
      ]
    },
    {
      "cell_type": "markdown",
      "source": [
        "Приведенный выше вывод - это всего лишь снимок части данных; фактическая длина списка (z) равна 506, то есть количеству строк. Он выводит значения z-score для каждого элемента данных столбца\n",
        "\n",
        "Теперь для определения порогового значения выбросов выбирается значение, которое обычно равно 3,0. Поскольку 99,7% точек данных лежат в пределах + /-3 стандартного отклонения (с использованием метода распределения по Гауссу).\n",
        "\n",
        "Строки, где значение Z больше 2"
      ],
      "metadata": {
        "id": "gvX26Y6efqpg"
      }
    },
    {
      "cell_type": "code",
      "source": [
        "threshold = 2\n",
        "\n",
        "# Position of the outlier\n",
        "print(np.where(z > 2))"
      ],
      "metadata": {
        "colab": {
          "base_uri": "https://localhost:8080/"
        },
        "id": "vrUvQwzQfrM9",
        "outputId": "09f3136b-d9fe-4eec-f7f5-171e6ded9712"
      },
      "execution_count": 7,
      "outputs": [
        {
          "output_type": "stream",
          "name": "stdout",
          "text": [
            "(array([ 10,  26,  41,  77,  79, 106, 131, 204, 223, 226, 242, 311, 321,\n",
            "       344, 374, 402]),)\n"
          ]
        }
      ]
    },
    {
      "cell_type": "markdown",
      "source": [
        "IQR (межквартильный диапазон)\n",
        "IQR (межквартильный диапазон) Межквартильный подход к поиску выбросов является наиболее часто используемым и наиболее надежным подходом, используемым в области исследований."
      ],
      "metadata": {
        "id": "wkSVnW2Bfvcy"
      }
    },
    {
      "cell_type": "code",
      "source": [
        "Q1 = np.percentile(df_diabetics['bmi'], 25, method='midpoint')\n",
        "Q3 = np.percentile(df_diabetics['bmi'], 75, method='midpoint')\n",
        "IQR = Q3 - Q1\n",
        "print(IQR)"
      ],
      "metadata": {
        "colab": {
          "base_uri": "https://localhost:8080/"
        },
        "id": "bMjQ-_AAfvvq",
        "outputId": "8226057d-aa64-46ae-b7a1-855ef80ad04c"
      },
      "execution_count": 8,
      "outputs": [
        {
          "output_type": "stream",
          "name": "stdout",
          "text": [
            "0.06520763046978838\n"
          ]
        }
      ]
    },
    {
      "cell_type": "markdown",
      "source": [
        "Полный код: обнаружение выбросов с помощью IQR и их удаление."
      ],
      "metadata": {
        "id": "MT5lldlBgDRN"
      }
    },
    {
      "cell_type": "code",
      "source": [
        "import sklearn\n",
        "from sklearn.datasets import load_diabetes\n",
        "import pandas as pd\n",
        "\n",
        "# Load the dataset\n",
        "diabetes = load_diabetes()\n",
        "\n",
        "# Create the dataframe\n",
        "column_name = diabetes.feature_names\n",
        "df_diabetes = pd.DataFrame(diabetes.data)\n",
        "df_diabetes .columns = column_name\n",
        "df_diabetes .head()\n",
        "print(\"Old Shape: \", df_diabetes.shape)\n",
        "\n",
        "''' Detection '''\n",
        "# IQR\n",
        "# Calculate the upper and lower limits\n",
        "Q1 = df_diabetes['bmi'].quantile(0.25)\n",
        "Q3 = df_diabetes['bmi'].quantile(0.75)\n",
        "IQR = Q3 - Q1\n",
        "lower = Q1 - 1.5*IQR\n",
        "upper = Q3 + 1.5*IQR\n",
        "\n",
        "# Create arrays of Boolean values indicating the outlier rows\n",
        "upper_array = np.where(df_diabetes['bmi']>=upper)[0]\n",
        "lower_array = np.where(df_diabetes['bmi']<=lower)[0]\n",
        "\n",
        "# Removing the outliers\n",
        "df_diabetes.drop(index=upper_array, inplace=True)\n",
        "df_diabetes.drop(index=lower_array, inplace=True)\n",
        "\n",
        "# Print the new shape of the DataFrame\n",
        "print(\"New Shape: \", df_diabetes.shape)"
      ],
      "metadata": {
        "colab": {
          "base_uri": "https://localhost:8080/"
        },
        "id": "rFK3zbgvgDrb",
        "outputId": "b76fa8e4-4765-42b6-a317-50f4a2570f68"
      },
      "execution_count": 9,
      "outputs": [
        {
          "output_type": "stream",
          "name": "stdout",
          "text": [
            "Old Shape:  (442, 10)\n",
            "New Shape:  (439, 10)\n"
          ]
        }
      ]
    },
    {
      "cell_type": "markdown",
      "source": [
        "Помогайка"
      ],
      "metadata": {
        "id": "nESkmI6-pWOg"
      }
    },
    {
      "cell_type": "code",
      "source": [
        "plt.hist(data['целевой признак'], bins='count')"
      ],
      "metadata": {
        "id": "lmm_wTjiojDV"
      },
      "execution_count": null,
      "outputs": []
    },
    {
      "cell_type": "code",
      "source": [
        "dataset.isnull().sum()"
      ],
      "metadata": {
        "id": "jbgYTUm9pT1F"
      },
      "execution_count": null,
      "outputs": []
    },
    {
      "cell_type": "code",
      "source": [
        "mappix = { '1': 1, '2': 2, '3': 3 }\n",
        "data['123'] = data['123'].map(mappix)"
      ],
      "metadata": {
        "id": "lgd3bNTKplvi"
      },
      "execution_count": null,
      "outputs": []
    }
  ]
}